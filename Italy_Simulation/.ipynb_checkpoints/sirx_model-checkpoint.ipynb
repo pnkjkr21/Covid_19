{
 "cells": [
  {
   "cell_type": "code",
   "execution_count": 1,
   "metadata": {},
   "outputs": [],
   "source": [
    "import numpy as np\n",
    "from scipy.integrate import odeint\n",
    "import matplotlib.pyplot as plt\n",
    "import importlib\n",
    "\n",
    "#for sliders this will install ipywidgets\n",
    "try:\n",
    "    importlib.import_module(\"ipywidgets\")\n",
    "except ImportError:\n",
    "    import pip\n",
    "    pip.main(['install', 'ipywidgets'])\n",
    "    \n",
    "    \n",
    "from ipywidgets import interact, interactive, fixed, interact_manual\n",
    "import ipywidgets as widgets"
   ]
  },
  {
   "cell_type": "code",
   "execution_count": 29,
   "metadata": {},
   "outputs": [],
   "source": [
    "def plot_solution(x0,days,alpha,beta,N,k0,k,gamma,sigma,f,mu,lkdwn_start,lkdwn_end,k0_lkdwn,k_lkdwn):\n",
    "    \n",
    "    gamma=gamma/100 #gamma is between 1/14 to 1/7 so, 1/100 is to scale the value assigned by the slider\n",
    "    \n",
    "    def sirx(x,t):\n",
    "        #import the values\n",
    "        s,i,xl,xq,e,r=x\n",
    "        '''\n",
    "        #defining the parameters\n",
    "        if t>lkdwn_start and t<lkdwn_end:\n",
    "            k0=k0_lkdwn\n",
    "            k=k_lkdwn\n",
    "        else:\n",
    "            k0=k0\n",
    "            k=k\n",
    "        '''\n",
    "        lam=(i+e)*beta/N\n",
    "        lkdwn_start1=list(map(int,lkdwn_start.split(',')))\n",
    "        lkdwn_end1=list(map(int,lkdwn_end.split(',')))\n",
    "        \n",
    "        for j in range(len(lkdwn_start1)):\n",
    "            if t>lkdwn_start1[j] and t<lkdwn_end1[j]:\n",
    "                lock=1\n",
    "                break\n",
    "            else:\n",
    "                lock=0\n",
    "        \n",
    "        #THE EQUATIONS\n",
    "        if lock==1:\n",
    "            dsdt = -(lam+k0_lkdwn)*s + (mu*xl)\n",
    "            didt = alpha*lam*s - (gamma+k_lkdwn)*i + sigma*e\n",
    "            dxldt = k0_lkdwn*s - (f*lam + mu)*xl + k0_lkdwn*e\n",
    "            dxqdt = k_lkdwn*i + (f*lam*xl) - (mu*xq)\n",
    "            dedt = ((1-alpha)*lam*s) - ((gamma+sigma+k0_lkdwn)*e)\n",
    "            drdt = gamma*(i + e) + (mu*xq)\n",
    "        else:\n",
    "            dsdt = -(lam+k0)*s + (mu*xl)\n",
    "            didt = alpha*lam*s - (gamma+k)*i + sigma*e\n",
    "            dxldt = k0*s - (f*lam + mu)*xl + k0*e\n",
    "            dxqdt = k*i + (f*lam*xl) - (mu*xq)\n",
    "            dedt = ((1-alpha)*lam*s) - ((gamma+sigma+k0)*e)\n",
    "            drdt = gamma*(i + e) + (mu*xq)\n",
    "\n",
    "        return [dsdt,didt,dxldt,dxqdt,dedt,drdt]\n",
    "    \n",
    "    #Ploting the equations\n",
    "    t=np.linspace(0,days,(days*1000))\n",
    "    x=odeint(sirx,x0,t)\n",
    "    s = x[:,0]\n",
    "    i = x[:,1]\n",
    "    xl = x[:,2]\n",
    "    xq = x[:,3]\n",
    "    e = x[:,4]\n",
    "    r = x[:,5]\n",
    "    arr=['Suceptible','Infected','Lockdown','Quarantined','Exposed','Removed']\n",
    "    for i in range(6):\n",
    "        plt.subplot(2,3,i+1)\n",
    "        plt.subplots_adjust(hspace =1,wspace=1)\n",
    "        plt.plot(t,(x[:,i]/N)*100)\n",
    "        plt.ylabel(arr[i])\n",
    "        plt.xlabel(\"Time in Days\")\n",
    "    plt.show()\n",
    "    plt.plot(t,(x/N)*100)\n",
    "    plt.legend(arr)\n",
    "    text=\"days={} alpha={} beta={} population={} \\n k0={} k={} gamma={} sigma={} f={} mu={} \\n lkdwn_start={} lkdwn_end={} k0_lkdwn={} k_lkdwn={}\".format(days,alpha,beta,N,k0,k,gamma,sigma,f,mu,lkdwn_start,lkdwn_end,k0_lkdwn,k_lkdwn)\n",
    "    plt.xlabel(\"Time in Day\"+\"\\n\"+text)\n",
    "    plt.show()"
   ]
  },
  {
   "cell_type": "code",
   "execution_count": 31,
   "metadata": {},
   "outputs": [
    {
     "name": "stdout",
     "output_type": "stream",
     "text": [
      "999999\n",
      "Lockdown start Dates30,70\n",
      "Lockdown end Dates51,100\n"
     ]
    },
    {
     "data": {
      "application/vnd.jupyter.widget-view+json": {
       "model_id": "26aafe5787364c84a85728a7500cc85e",
       "version_major": 2,
       "version_minor": 0
      },
      "text/plain": [
       "interactive(children=(FloatSlider(value=0.5, description='alpha', max=1.0), FloatSlider(value=5.0, description…"
      ]
     },
     "metadata": {},
     "output_type": "display_data"
    }
   ],
   "source": [
    "days=200 #No. of days of simulation\n",
    "\n",
    "#initial valus of the [suceptible, infected, lockdown, quarantined, asymptomatic_carrier, removed] people sequence is fixed\n",
    "n=1000000           # Total population\n",
    "n_i=1              # Infected people\n",
    "n_xl=0             # Lockdown\n",
    "n_xq=0             # Quarantined\n",
    "n_e=0              # Asymptomatic \n",
    "n_r=0              # Removed people\n",
    "n_s= n - n_i - n_e # Suceptible people\n",
    "print(n_s)\n",
    "x0=[n_s,n_i,n_xl,n_xq,n_e,n_r]\n",
    "\n",
    "w = interactive(plot_solution, x0=fixed(x0), days=fixed(days),\\\n",
    "                #chage the values in brackets to change the range\n",
    "                alpha=(0.0,1.0),\\\n",
    "                beta=(0.0,10.0),N=fixed(n),\\\n",
    "                k0=(0.0,5.0),\\\n",
    "                k=(0.0,10.0),\\\n",
    "                gamma=(1.0,14.2),\\\n",
    "                sigma=(0.0,1.0),\\\n",
    "                f=(0.0,1.0),\\\n",
    "                mu=(0.0,1.0),\\\n",
    "                lkdwn_start=input('Lockdown start Dates'),\\\n",
    "                lkdwn_end=input('Lockdown end Dates'),\\\n",
    "                k0_lkdwn=(0.0,5.0),\\\n",
    "                k_lkdwn=(0.0,10.0))\n",
    "display(w)"
   ]
  },
  {
   "cell_type": "code",
   "execution_count": null,
   "metadata": {},
   "outputs": [],
   "source": []
  }
 ],
 "metadata": {
  "kernelspec": {
   "display_name": "Python 3",
   "language": "python",
   "name": "python3"
  },
  "language_info": {
   "codemirror_mode": {
    "name": "ipython",
    "version": 3
   },
   "file_extension": ".py",
   "mimetype": "text/x-python",
   "name": "python",
   "nbconvert_exporter": "python",
   "pygments_lexer": "ipython3",
   "version": "3.7.0"
  }
 },
 "nbformat": 4,
 "nbformat_minor": 4
}
