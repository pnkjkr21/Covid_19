{
 "cells": [
  {
   "cell_type": "code",
   "execution_count": 14,
   "metadata": {},
   "outputs": [],
   "source": [
    "import matplotlib.pyplot as plt\n",
    "from scipy.optimize import curve_fit\n",
    "import numpy as np\n",
    "import pandas as pd"
   ]
  },
  {
   "cell_type": "code",
   "execution_count": 80,
   "metadata": {},
   "outputs": [],
   "source": [
    "def func(x,a,b):\n",
    "    return a*np.exp(x*b)"
   ]
  },
  {
   "cell_type": "code",
   "execution_count": 81,
   "metadata": {},
   "outputs": [],
   "source": [
    "x=list(range(1,63))\n",
    "#data=pd.read_csv('india_data.csv')\n",
    "# Total number of infected people in the poulation\n",
    "#infected=data['Total confirmed cased'].values\n",
    "infected=[1,1,1,2,3,3,3,3,3,3,3,3,3,3,3,3,3,3,3,3,3,3,3,3,3,3,3,3,3,3,3,3,5,6,28,30,31,34,39,48,63,70,82,91,107,113,127,146,171,199,258,334,403,505,571,657,735,886,1029,1139,1347,1635]\n",
    "#total number of removed people will be recovered + dead people\n",
    "#recovered=data['Total Recovered'].values\n",
    "#dead=data['Total Dead'].values\n",
    "#removed=recovered+dead\n",
    "removed=np.array([0,0,0,0,0,0,0,0,0,0,0,0,0,0,1,1,1,2,2,2,2,3,3,3,3,3,3,3,3,3,3,3,3,3,3,3,3,3,3,3,4,4,5,11,12,15,16,18,18,24,27,27,30,34,50,54,66,94,109,129,180,199])\n"
   ]
  },
  {
   "cell_type": "code",
   "execution_count": 82,
   "metadata": {},
   "outputs": [
    {
     "name": "stdout",
     "output_type": "stream",
     "text": [
      "[2.87590045e-15 1.00000000e+00]\n"
     ]
    }
   ],
   "source": [
    "popt,pcov=curve_fit(func,x,infected)\n",
    "print(popt)"
   ]
  },
  {
   "cell_type": "code",
   "execution_count": 83,
   "metadata": {},
   "outputs": [],
   "source": [
    "t=np.linspace(0,63,6300)\n",
    "t_scat=(list(range(1,63)))"
   ]
  },
  {
   "cell_type": "code",
   "execution_count": 84,
   "metadata": {},
   "outputs": [
    {
     "data": {
      "image/png": "[encoded data removed]",
      "text/plain": [
       "<Figure size 432x288 with 1 Axes>"
      ]
     },
     "metadata": {
      "needs_background": "light"
     },
     "output_type": "display_data"
    }
   ],
   "source": [
    "plt.plot(t,popt[0]*np.exp(t*popt[1]))\n",
    "plt.plot(t_scat,infected)\n",
    "plt.legend(['Fit','Scatter'])\n",
    "plt.show()"
   ]
  },
  {
   "cell_type": "code",
   "execution_count": null,
   "metadata": {},
   "outputs": [],
   "source": []
  }
 ],
 "metadata": {
  "kernelspec": {
   "display_name": "Python 3",
   "language": "python",
   "name": "python3"
  },
  "language_info": {
   "codemirror_mode": {
    "name": "ipython",
    "version": 3
   },
   "file_extension": ".py",
   "mimetype": "text/x-python",
   "name": "python",
   "nbconvert_exporter": "python",
   "pygments_lexer": "ipython3",
   "version": "3.7.0"
  }
 },
 "nbformat": 4,
 "nbformat_minor": 4
}
