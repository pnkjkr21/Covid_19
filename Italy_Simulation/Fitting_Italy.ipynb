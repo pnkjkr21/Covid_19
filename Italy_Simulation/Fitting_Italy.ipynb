{
 "cells": [
  {
   "cell_type": "markdown",
   "metadata": {},
   "source": [
    "beta -> Rate at which people with virus are coming in contact with suceptible people \\\n",
    "beta1 -> Lockdown leak rate \\\n",
    "b1 -> Asymptomatic interaction rate with suceptible \\\n",
    "b2 -> Symtomatic interation rate with suceptible \\\n",
    "b3 -> Patients interaction with suceptible \\\n",
    "k0 -> Suceptible going lockdown rate \\\n",
    "mu -> Suceptible leaving lockdown rate \\\n",
    "sigma -> Asymptomatic becomes symptomatic \\\n",
    "kt -> Testing rate \\\n",
    "gamma1 -> Asymptomatic removal rate \\\n",
    "gamma2 -> Infected removal rate \\\n",
    "gamma3 -> Patient removal rate \\"
   ]
  },
  {
   "cell_type": "markdown",
   "metadata": {},
   "source": [
    "Source for gammas: https://www.who.int/docs/default-source/coronaviruse/who-china-joint-mission-on-covid-19-final-report.pdf \\\n",
    "\\\n",
    "From page 14(first paragraph): \\\n",
    "Using available preliminary data, the median time from onset to clinical recovery for mild \\\n",
    "cases is approximately 2 weeks and is 3-6 weeks for patients with severe or critical disease. \\\n",
    "Preliminary data suggests that the time period from onset to the development of severe \\\n",
    "disease, including hypoxia, is 1 week. Among patients who have died, the time from \\\n",
    "symptom onset to outcome ranges from 2-8 weeks.\\\n",
    "\\\n",
    "gamma1=(1/14)=gamma2 \\\n",
    "gamma3=(1/28) (four weeks) \\"
   ]
  },
  {
   "cell_type": "markdown",
   "metadata": {},
   "source": [
    "Total number of testing data is taken from https://www.worldometers.info/coronavirus/covid-19-testing/ \\\n",
    "feb26 = 9462\\\n",
    "mar2 = 23345\\\n",
    "mar9= 60761\\\n",
    "I am assuming the rate of testing between mar2 to mar9 i.e. 5345 tests per day is maintained daily in future \\\n",
    "kt=5345"
   ]
  },
  {
   "cell_type": "markdown",
   "metadata": {},
   "source": [
    "Source of sigma https://www.healthline.com/health/coronavirus-incubation-period \\\n",
    "It takes five days for symptoms to show \\\n",
    "sigma = 0.2"
   ]
  },
  {
   "cell_type": "markdown",
   "metadata": {},
   "source": [
    "Lockdown was declared on 9th March, till 3rd April  94% drop for retail and recreation places, an 85% drop for grocery shops and pharmacies, a 90% drop for parks and beaches, an 87% drop for public transit hubs, a 63% drop for workplaces, and a 24% rise for residential places. \\\n",
    "k0=1/25 \\\n",
    "Source: https://en.wikipedia.org/wiki/2020_Italy_coronavirus_lockdown#Effectiveness"
   ]
  },
  {
   "cell_type": "markdown",
   "metadata": {},
   "source": [
    "mu=1/7     Guess \\\n",
    "b1=0.1     Guess \\\n",
    "b2=0.01    Guess \\\n",
    "b3=0.001   Guess \n",
    "\n",
    "\n",
    "Lockdown in Italy started in march 9th data available from feb 15th \\\n",
    "So, Lockdown starts from day 23 \\\n",
    "Total population of italy 60482635\n"
   ]
  },
  {
   "cell_type": "code",
   "execution_count": 1,
   "metadata": {},
   "outputs": [],
   "source": [
    "import numpy as np\n",
    "from scipy.integrate import odeint\n",
    "import matplotlib.pyplot as plt\n",
    "import importlib\n",
    "import pandas as pd"
   ]
  },
  {
   "cell_type": "code",
   "execution_count": 2,
   "metadata": {},
   "outputs": [],
   "source": [
    "data=pd.read_csv(\"Italy_Data.csv\")\n",
    "dates=data['Date'][8:].values\n",
    "actualI=data['Active Cases in Italy'].values[8:]\n",
    "actualDeaths=data[\"Total Coronavirus Deaths in Italy\"].values[8:]\n",
    "#dates=(dates[:15])\n",
    "#actualI=actualI[:15]\n",
    "time=list(range(len(dates)))"
   ]
  },
  {
   "cell_type": "code",
   "execution_count": 6,
   "metadata": {},
   "outputs": [],
   "source": [
    "def getPreds(x,beta,beta1):\n",
    "    \n",
    "    N=60482635  #population\n",
    "    gamma1=1/19\n",
    "    gamma2=1/14\n",
    "    gamma3=1/14\n",
    "    kt=0.06125\n",
    "    sigma = 0.1\n",
    "    k0=1/7\n",
    "    mu=1/7\n",
    "    b1=beta1\n",
    "    b2=0.1*beta1\n",
    "    b3=0.001*beta1\n",
    "    beta=0.\n",
    "    lkdwn_start=\"24\"\n",
    "    lkdwn_end=\"50\"\n",
    "    \n",
    "    t=np.linspace(0,40,401)\n",
    "    \n",
    "    def sirx(x,t):\n",
    "        #import the values\n",
    "        S,A,I,Xs,Xa,Xi,P,R=x\n",
    "\n",
    "        lkdwn_start1=list(map(int,lkdwn_start.split(',')))\n",
    "        lkdwn_end1=list(map(int,lkdwn_end.split(',')))\n",
    "        lkdwn_start1.append(days)\n",
    "\n",
    "        #For heavyside function\n",
    "        for j in range(len(lkdwn_end1)):\n",
    "            if t>lkdwn_end1[j] and t<lkdwn_start1[j+1]:\n",
    "                theta=1\n",
    "                break\n",
    "            else:\n",
    "                theta=0\n",
    "        #For Pulse function\n",
    "        for j in range(len(lkdwn_end1)):\n",
    "            if t>lkdwn_start1[j] and t<lkdwn_end1[j]:\n",
    "                zi=1\n",
    "                break\n",
    "            else:\n",
    "                zi=0\n",
    "\n",
    "        com=beta*(I+A+(b1*Xa)+(b2*Xi)+(b3*P))\n",
    "\n",
    "                        #THE EQUATIONS\n",
    "        dSdt = -(com*S/N) - (zi*k0*S) + (theta*mu*Xs)\n",
    "        dAdt = (com*S/N) - (sigma*A) - (zi*k0*A) + (theta*mu*Xa) - (gamma1*A)\n",
    "        dIdt = (sigma*A) - (kt*I) - (zi*k0*I) + (theta*mu*Xi) - (gamma2*I)                              \n",
    "        dXsdt = -(beta1*com*Xs) + (zi*k0*S) - (theta*mu*Xs)\n",
    "        dXadt = (beta1*com*Xs) - (sigma*Xa) + (zi*k0*A) - (theta*mu*Xa) - (gamma1*Xa)\n",
    "        dXidt = (sigma*Xa) - (kt*Xi) + (zi*k0*I) - (theta*mu*Xi) - (gamma2*Xi)\n",
    "        dPdt = (kt*(I+Xi)) - (gamma3*P)\n",
    "        dRdt = (gamma1*(A+Xa)) + (gamma2*(I+Xi)) + (gamma3*P)\n",
    "\n",
    "        return [dSdt,dAdt,dIdt,dXsdt,dXadt,dXidt,dPdt,dRdt]\n",
    "    \n",
    "    ret = odeint(sirx, x, t)\n",
    "    \n",
    "    S,A,I,Xs,Xa,Xi,P,R = ret.T\n",
    "    \n",
    "    return P"
   ]
  },
  {
   "cell_type": "code",
   "execution_count": 7,
   "metadata": {},
   "outputs": [],
   "source": [
    "days=15 #No. of days of simulation\n",
    "\n",
    "N=60461826            # Total population\n",
    "I=912              # Infected \n",
    "A=4256            # Asymptomatic\n",
    "Xs=0             # Quarantined Susecptible\n",
    "Xa=0              # Quarantined Asymptomatic \n",
    "Xi=0              # Quarantined Infected\n",
    "P=3             #Patients\n",
    "R=0             #Removed\n",
    "S= N - A - I - Xs - Xa -Xi - P - R # Suceptible people\n",
    "\n",
    "x0=[S,A,I,Xs,Xa,Xi,P,R]"
   ]
  },
  {
   "cell_type": "code",
   "execution_count": 8,
   "metadata": {},
   "outputs": [],
   "source": [
    "# Define loss and search for the best hyperparameters (grid search for now)\n",
    "def squaredLoss(preds, target):\n",
    "    \n",
    "    loss = ((preds - target) ** 2).sum()\n",
    "    return loss"
   ]
  },
  {
   "cell_type": "code",
   "execution_count": 9,
   "metadata": {},
   "outputs": [
    {
     "name": "stdout",
     "output_type": "stream",
     "text": [
      "68819251017.47581 0.26\n",
      "68819251017.47581 0.261\n",
      "68819251017.47581 0.262\n",
      "68819251017.47581 0.263\n",
      "68819251017.47581 0.264\n",
      "68819251017.47581 0.265\n",
      "68819251017.47581 0.266\n",
      "68819251017.47581 0.267\n",
      "68819251017.47581 0.268\n",
      "68819251017.47581 0.269\n",
      "68819251017.47581 0.27\n",
      "68819251017.47581 0.271\n",
      "68819251017.47581 0.272\n",
      "68819251017.47581 0.273\n",
      "68819251017.47581 0.274\n",
      "68819251017.47581 0.275\n",
      "68819251017.47581 0.276\n",
      "68819251017.47581 0.277\n",
      "68819251017.47581 0.278\n",
      "68819251017.47581 0.279\n",
      "68819251017.47581 0.28\n",
      "Best beta value 0.26\n"
     ]
    }
   ],
   "source": [
    "bestLoss = 10000000000000000000000000\n",
    "bestBeta = -1, -1\n",
    "bestPreds = None\n",
    "betaValues=np.linspace(0.26,0.28,21)\n",
    "beta1Values = np.linspace(0., 1., 101)\n",
    "samplesPerDay=10\n",
    "#beta=0.34157894736842104\n",
    "\n",
    "for beta in betaValues:\n",
    "    for beta1 in beta1Values:\n",
    "        predI = getPreds(x0, beta, beta1)\n",
    "        trimmedPredI = predI[:len(actualI) * samplesPerDay:samplesPerDay]\n",
    "        assert len(trimmedPredI) == len(actualI), \"Length mismatch\"\n",
    "        #           loss = squaredLossExpScale(trimmedPredI, actualI) + squaredLossExpScale(trimmedPredR, actualR)\n",
    "        loss = squaredLoss(trimmedPredI,actualI)\n",
    "\n",
    "        if loss < bestLoss:\n",
    "            bestLoss = loss\n",
    "            bestPreds = predI\n",
    "            bestBeta = beta\n",
    "    print(loss,beta)\n",
    "print(\"Best beta value\", bestBeta)"
   ]
  },
  {
   "cell_type": "code",
   "execution_count": 17,
   "metadata": {},
   "outputs": [
    {
     "name": "stdout",
     "output_type": "stream",
     "text": [
      "28437875.930030987\n"
     ]
    }
   ],
   "source": [
    "print(bestLoss)"
   ]
  },
  {
   "cell_type": "code",
   "execution_count": null,
   "metadata": {},
   "outputs": [],
   "source": []
  }
 ],
 "metadata": {
  "kernelspec": {
   "display_name": "Python 3",
   "language": "python",
   "name": "python3"
  },
  "language_info": {
   "codemirror_mode": {
    "name": "ipython",
    "version": 3
   },
   "file_extension": ".py",
   "mimetype": "text/x-python",
   "name": "python",
   "nbconvert_exporter": "python",
   "pygments_lexer": "ipython3",
   "version": "3.7.0"
  }
 },
 "nbformat": 4,
 "nbformat_minor": 4
}
