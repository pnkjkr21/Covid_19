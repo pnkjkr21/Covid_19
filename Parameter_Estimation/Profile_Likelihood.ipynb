{
 "cells": [
  {
   "cell_type": "code",
   "execution_count": 16,
   "metadata": {},
   "outputs": [],
   "source": [
    "import importlib\n",
    "import numpy as np\n",
    "import pandas as pd\n",
    "from scipy.integrate import odeint\n",
    "import matplotlib.pyplot as plt\n",
    "from scipy.stats import chisquare\n",
    "from sklearn.metrics import r2_score\n",
    "\n",
    "frac=100"
   ]
  },
  {
   "cell_type": "markdown",
   "metadata": {},
   "source": [
    "# Import data till 7th April"
   ]
  },
  {
   "cell_type": "code",
   "execution_count": 17,
   "metadata": {},
   "outputs": [],
   "source": [
    "data=pd.read_csv(\"maha_data7apr.csv\")\n",
    "real_P=data[\"Total Cases\"]-data[\"Total Deaths\"]-data[\"Total Recoveries\"]\n",
    "real_t=list(range(0,len(real_P)))\n",
    "date=list(data[\"Date\"])"
   ]
  },
  {
   "cell_type": "markdown",
   "metadata": {},
   "source": [
    "# The Function"
   ]
  },
  {
   "cell_type": "code",
   "execution_count": 18,
   "metadata": {},
   "outputs": [],
   "source": [
    "def f(beta,beta1,x0,t):\n",
    "    def sirx(x,t):\n",
    "        #import the values\n",
    "        S,E,A,I,Xs,Xe,Xa,Xi,P,R=x\n",
    "\n",
    "        #Parameters\n",
    "        beta2=0.1\n",
    "        b1=beta1\n",
    "        b2=0.1*beta1\n",
    "        b3=0.002*beta1\n",
    "        k0=1/7\n",
    "        kt=0.06125\n",
    "        mu=1/7\n",
    "        sigma=1/5\n",
    "        gamma1=1/19\n",
    "        gamma2=1/14\n",
    "        gamma3=1/14\n",
    "        f=0.1\n",
    "\n",
    "        lkdwn_start1=[date.index(lkdwn_start)]\n",
    "        lkdwn_end1=[lkdwn_end]\n",
    "        lkdwn_start1.append(days)\n",
    "\n",
    "        #For heavyside function\n",
    "        for j in range(len(lkdwn_end1)):\n",
    "            if t>lkdwn_end1[j] and t<lkdwn_start1[j+1]:\n",
    "                theta=1\n",
    "                break\n",
    "            else:\n",
    "                theta=0\n",
    "        #For Pulse function\n",
    "        for j in range(len(lkdwn_end1)):\n",
    "            if t>lkdwn_start1[j] and t<lkdwn_end1[j]:\n",
    "                zi=1\n",
    "                break\n",
    "            else:\n",
    "                zi=0\n",
    "\n",
    "        com=beta*(I+A+(b1*Xa)+(b2*Xi)+(b3*P)+beta2*(E+beta1*Xe))\n",
    "\n",
    "        #THE EQUATIONS\n",
    "        dSdt = -(com*S/N) - (zi*k0*S) + (theta*mu*Xs)\n",
    "        dEdt = (f*com*S/N) - (gamma1*E)\n",
    "        dAdt = ((1-f)*com*S/N) - (sigma*A) - (zi*k0*A) + (theta*mu*Xa)\n",
    "        dIdt = (sigma*A) - (kt*I) - (zi*k0*I) + (theta*mu*Xi) - (gamma2*I)                              \n",
    "        dXsdt = -(beta1*com*Xs/N) + (zi*k0*S) - (theta*mu*Xs)\n",
    "        dXedt = (f*beta1*com*Xs/N) - (gamma1*Xe)\n",
    "        dXadt = ((1-f)*beta1*com*Xs/N) - (sigma*Xa) + (zi*k0*A) - (theta*mu*Xa)\n",
    "        dXidt = (sigma*Xa) - (kt*Xi) + (zi*k0*I) - (theta*mu*Xi) - (gamma2*Xi)\n",
    "        dPdt = (kt*(I+Xi)) - (gamma3*P)\n",
    "        dRdt = (gamma2*(I+Xi)) + (gamma3*P) + gamma1*(E + Xe)\n",
    "\n",
    "        return [dSdt,dEdt,dAdt,dIdt,dXsdt,dXedt,dXadt,dXidt,dPdt,dRdt]\n",
    "    x=odeint(sirx,x0,t)\n",
    "    \n",
    "    return x"
   ]
  },
  {
   "cell_type": "markdown",
   "metadata": {},
   "source": [
    "# Initial values of the Variables"
   ]
  },
  {
   "cell_type": "code",
   "execution_count": 19,
   "metadata": {},
   "outputs": [],
   "source": [
    "days=25\n",
    "N=1.142e8  #Total population of Maharashtra\n",
    "E0=25\n",
    "A0=25\n",
    "I0=25\n",
    "S0=N-E0-A0-I0\n",
    "lkdwn_start=\"24-Mar\"\n",
    "lkdwn_end=days\n",
    "x0=[S0,E0,A0,I0,0,0,0,0,0,0]\n",
    "t=np.linspace(0,days,(days*frac + 1))"
   ]
  },
  {
   "cell_type": "markdown",
   "metadata": {},
   "source": [
    "# Makes Goodness of fit against beta"
   ]
  },
  {
   "cell_type": "code",
   "execution_count": 20,
   "metadata": {},
   "outputs": [],
   "source": [
    "fit=[]\n",
    "betas=[]\n",
    "for i in range(101):\n",
    "    beta=i/100\n",
    "    betas.append(beta)\n",
    "    x=f(beta,0.1,x0,t)\n",
    "    P=x[:,8]\n",
    "    fit.append(chisquare(P[frac::frac],f_exp=real_P)[0])"
   ]
  },
  {
   "cell_type": "code",
   "execution_count": 21,
   "metadata": {},
   "outputs": [
    {
     "data": {
      "image/png": "[encoded data removed]",
      "text/plain": [
       "<Figure size 432x288 with 1 Axes>"
      ]
     },
     "metadata": {
      "needs_background": "light"
     },
     "output_type": "display_data"
    }
   ],
   "source": [
    "plt.plot(betas,np.log(fit))\n",
    "plt.xlabel('beta')\n",
    "plt.ylabel('Goodness of Fit - Chisquare')\n",
    "plt.show()"
   ]
  },
  {
   "cell_type": "code",
   "execution_count": 22,
   "metadata": {},
   "outputs": [
    {
     "name": "stdout",
     "output_type": "stream",
     "text": [
      "0.37\n"
     ]
    }
   ],
   "source": [
    "min_val=min(fit)\n",
    "index=list(fit).index(min_val)\n",
    "print(betas[index])"
   ]
  },
  {
   "cell_type": "markdown",
   "metadata": {},
   "source": [
    "# Grid search for best beta and beta1"
   ]
  },
  {
   "cell_type": "code",
   "execution_count": 118,
   "metadata": {},
   "outputs": [
    {
     "name": "stdout",
     "output_type": "stream",
     "text": [
      "0.33 0.86\n"
     ]
    }
   ],
   "source": [
    "fit=[]\n",
    "beta=np.linspace(0.,1.,101)\n",
    "#beta=0.3258\n",
    "beta1=np.linspace(0.,1.,101)\n",
    "mini=10000000000000000000000\n",
    "for i in beta:\n",
    "    for j in beta1:\n",
    "        x=f(i,j,x0,t)\n",
    "        P=x[:,8]\n",
    "        val=chisquare(P[frac::frac],f_exp=real_P)[0]\n",
    "        fit.append(val)\n",
    "        if val<mini:\n",
    "            mini=val\n",
    "            best_beta=i\n",
    "            best_beta1=j\n",
    "print(best_beta,best_beta1)"
   ]
  },
  {
   "cell_type": "code",
   "execution_count": 119,
   "metadata": {},
   "outputs": [
    {
     "name": "stdout",
     "output_type": "stream",
     "text": [
      "3419 334.11783338709824 334.11783338709824\n"
     ]
    }
   ],
   "source": [
    "min_val=min(fit)\n",
    "index=fit.index(min_val)\n",
    "x=f(best_beta,best_beta1,x0,t)\n",
    "P=x[:,8]\n",
    "val=chisquare(P[frac::frac],f_exp=real_P)[0]\n",
    "print(index,min_val,val)"
   ]
  },
  {
   "cell_type": "markdown",
   "metadata": {},
   "source": [
    "# Plot P vs t for further dates"
   ]
  },
  {
   "cell_type": "code",
   "execution_count": 12,
   "metadata": {},
   "outputs": [],
   "source": [
    "data=pd.read_csv(\"maha_data7apr.csv\")\n",
    "real_P=data[\"Total Cases\"]-data[\"Total Deaths\"]-data[\"Total Recoveries\"]\n",
    "real_P=real_P.values\n",
    "real_t=list(range(0,len(real_P)))\n",
    "date=list(data[\"Date\"])\n",
    "real_PP=list(real_P)"
   ]
  },
  {
   "cell_type": "code",
   "execution_count": 137,
   "metadata": {
    "scrolled": true
   },
   "outputs": [
    {
     "data": {
      "image/png": "[encoded data removed]",
      "text/plain": [
       "<Figure size 432x288 with 1 Axes>"
      ]
     },
     "metadata": {
      "needs_background": "light"
     },
     "output_type": "display_data"
    }
   ],
   "source": [
    "real_PP.extend([962,1158,1293,1443])\n",
    "real_t.extend([25,26,27,28])\n",
    "days=29\n",
    "t=np.linspace(0,days,(days*frac + 1))\n",
    "x=f(best_beta,best_beta1,x0,t)\n",
    "P=x[:,8]\n",
    "plt.plot(t,P,label='simulated P')\n",
    "plt.axvline(x=24,color='black')\n",
    "plt.scatter(real_t,real_PP,color='r',label='real P')\n",
    "plt.xlabel('Time in days')\n",
    "plt.ylabel('No. of People')\n",
    "plt.legend()\n",
    "plt.show()"
   ]
  },
  {
   "cell_type": "markdown",
   "metadata": {},
   "source": [
    "# best fit beta is 0.3285,beta1=0.89"
   ]
  },
  {
   "cell_type": "markdown",
   "metadata": {},
   "source": [
    "# 3D Plotting"
   ]
  },
  {
   "cell_type": "code",
   "execution_count": 23,
   "metadata": {},
   "outputs": [],
   "source": [
    "all_fit=[]\n",
    "x=y=np.linspace(0.,1.,101)\n",
    "for i in x:\n",
    "    for j in y:\n",
    "        x=f(i,j,x0,t)\n",
    "        P=x[:,8]\n",
    "        fit=chisquare(P[frac::frac],f_exp=real_P)[0]\n",
    "        all_fit.append([i,j,fit])"
   ]
  },
  {
   "cell_type": "code",
   "execution_count": 24,
   "metadata": {},
   "outputs": [],
   "source": [
    "all_fit=np.array(all_fit)\n",
    "z=all_fit[:,2]\n",
    "x=y=np.linspace(0.,1.,101)\n",
    "X,Y=np.meshgrid(x,y)\n",
    "zz=z.reshape(101,101)"
   ]
  },
  {
   "cell_type": "code",
   "execution_count": 25,
   "metadata": {},
   "outputs": [
    {
     "data": {
      "image/png": "[encoded data removed]",
      "text/plain": [
       "<Figure size 432x288 with 2 Axes>"
      ]
     },
     "metadata": {
      "needs_background": "light"
     },
     "output_type": "display_data"
    }
   ],
   "source": [
    "plt.contourf(X,Y,np.log(zz))\n",
    "plt.xlabel('beta')\n",
    "plt.ylabel('beta1')\n",
    "plt.colorbar()\n",
    "plt.show()"
   ]
  },
  {
   "cell_type": "code",
   "execution_count": 92,
   "metadata": {},
   "outputs": [
    {
     "name": "stdout",
     "output_type": "stream",
     "text": [
      "559\n"
     ]
    }
   ],
   "source": [
    "import csv\n",
    "with open('plot_data.csv','w',newline='') as f:\n",
    "    fieldnames=['Beta','Beta1','Chisquare']\n",
    "    thewriter=csv.DictWriter(f,fieldnames=fieldnames)\n",
    "    thewriter.writerow({'Beta':'Beta','Beta1':'Beta1','Chisquare':'Chisquare'})\n",
    "    for i in range(len(pred)):\n",
    "        thewriter.writerow({'Beta':all_fit[i][0],'Beta1':all_fit[i][1],'Chisquare':all_fit[i][2]})"
   ]
  },
  {
   "cell_type": "code",
   "execution_count": 26,
   "metadata": {},
   "outputs": [],
   "source": [
    "all_fit=[]\n",
    "x=np.linspace(0.2,0.4,201)\n",
    "y=np.linspace(0.6,1.,401)\n",
    "for i in x:\n",
    "    for j in y:\n",
    "        x=f(i,j,x0,t)\n",
    "        P=x[:,8]\n",
    "        fit=chisquare(P[frac::frac],f_exp=real_P)[0]\n",
    "        all_fit.append([i,j,fit])"
   ]
  },
  {
   "cell_type": "code",
   "execution_count": 27,
   "metadata": {},
   "outputs": [],
   "source": [
    "all_fit=np.array(all_fit)\n",
    "z=all_fit[:,2]\n",
    "x=np.linspace(0.3,0.4,201)\n",
    "y=np.linspace(0.6,1.,401)\n",
    "X,Y=np.meshgrid(x,y)"
   ]
  },
  {
   "cell_type": "code",
   "execution_count": 28,
   "metadata": {},
   "outputs": [],
   "source": [
    "zz=z.reshape(401,201)"
   ]
  },
  {
   "cell_type": "code",
   "execution_count": 30,
   "metadata": {
    "scrolled": true
   },
   "outputs": [
    {
     "data": {
      "image/png": "[encoded data removed]",
      "text/plain": [
       "<Figure size 432x288 with 2 Axes>"
      ]
     },
     "metadata": {
      "needs_background": "light"
     },
     "output_type": "display_data"
    }
   ],
   "source": [
    "plt.contourf(X,Y,np.log(zz))\n",
    "plt.xlabel('beta')\n",
    "plt.ylabel('beta1')\n",
    "plt.colorbar()\n",
    "plt.show()"
   ]
  },
  {
   "cell_type": "code",
   "execution_count": null,
   "metadata": {},
   "outputs": [],
   "source": []
  }
 ],
 "metadata": {
  "kernelspec": {
   "display_name": "Python 3",
   "language": "python",
   "name": "python3"
  },
  "language_info": {
   "codemirror_mode": {
    "name": "ipython",
    "version": 3
   },
   "file_extension": ".py",
   "mimetype": "text/x-python",
   "name": "python",
   "nbconvert_exporter": "python",
   "pygments_lexer": "ipython3",
   "version": "3.7.0"
  }
 },
 "nbformat": 4,
 "nbformat_minor": 4
}
