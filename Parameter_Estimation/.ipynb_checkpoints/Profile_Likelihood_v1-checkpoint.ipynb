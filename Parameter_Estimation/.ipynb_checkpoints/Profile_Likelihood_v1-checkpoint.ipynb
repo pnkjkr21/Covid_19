{
 "cells": [
  {
   "cell_type": "code",
   "execution_count": 23,
   "metadata": {},
   "outputs": [],
   "source": [
    "import importlib\n",
    "import numpy as np\n",
    "import pandas as pd\n",
    "from scipy.integrate import odeint\n",
    "import matplotlib.pyplot as plt\n",
    "from scipy.stats import chisquare\n",
    "frac=1000\n",
    "shape=1001"
   ]
  },
  {
   "cell_type": "markdown",
   "metadata": {},
   "source": [
    "# Import data till 7th April"
   ]
  },
  {
   "cell_type": "code",
   "execution_count": 24,
   "metadata": {},
   "outputs": [],
   "source": [
    "data=pd.read_csv(\"maha_data7apr.csv\")\n",
    "real_P=data[\"Total Cases\"]-data[\"Total Deaths\"]-data[\"Total Recoveries\"]\n",
    "real_t=list(range(0,len(real_P)))\n",
    "date=list(data[\"Date\"])"
   ]
  },
  {
   "cell_type": "markdown",
   "metadata": {},
   "source": [
    "# The Function"
   ]
  },
  {
   "cell_type": "code",
   "execution_count": 25,
   "metadata": {},
   "outputs": [],
   "source": [
    "def f(beta,beta1,x0,t):\n",
    "    def sirx(x,t):\n",
    "        #import the values\n",
    "        S,E,A,I,Xs,Xe,Xa,Xi,P,R=x\n",
    "\n",
    "        #Parameters\n",
    "        beta2=0.1\n",
    "        b1=beta1\n",
    "        b2=0.1*beta1\n",
    "        b3=0.002*beta1\n",
    "        k0=1/7\n",
    "        kt=0.06125\n",
    "        mu=1/7\n",
    "        sigma=1/5\n",
    "        gamma1=1/19\n",
    "        gamma2=1/14\n",
    "        gamma3=1/14\n",
    "        f=0.1\n",
    "\n",
    "        lkdwn_start1=[date.index(lkdwn_start)]\n",
    "        lkdwn_end1=[lkdwn_end]\n",
    "        lkdwn_start1.append(days)\n",
    "\n",
    "        #For heavyside function\n",
    "        for j in range(len(lkdwn_end1)):\n",
    "            if t>lkdwn_end1[j] and t<lkdwn_start1[j+1]:\n",
    "                theta=1\n",
    "                break\n",
    "            else:\n",
    "                theta=0\n",
    "        #For Pulse function\n",
    "        for j in range(len(lkdwn_end1)):\n",
    "            if t>lkdwn_start1[j] and t<lkdwn_end1[j]:\n",
    "                zi=1\n",
    "                break\n",
    "            else:\n",
    "                zi=0\n",
    "\n",
    "        com=beta*(I+A+(b1*Xa)+(b2*Xi)+(b3*P)+beta2*(E+beta1*Xe))\n",
    "\n",
    "        #THE EQUATIONS\n",
    "        dSdt = -(com*S/N) - (zi*k0*S) + (theta*mu*Xs)\n",
    "        dEdt = (f*com*S/N) - (gamma1*E)\n",
    "        dAdt = ((1-f)*com*S/N) - (sigma*A) - (zi*k0*A) + (theta*mu*Xa)\n",
    "        dIdt = (sigma*A) - (kt*I) - (zi*k0*I) + (theta*mu*Xi) - (gamma2*I)                              \n",
    "        dXsdt = -(beta1*com*Xs/N) + (zi*k0*S) - (theta*mu*Xs)\n",
    "        dXedt = (f*beta1*com*Xs/N) - (gamma1*Xe)\n",
    "        dXadt = ((1-f)*beta1*com*Xs/N) - (sigma*Xa) + (zi*k0*A) - (theta*mu*Xa)\n",
    "        dXidt = (sigma*Xa) - (kt*Xi) + (zi*k0*I) - (theta*mu*Xi) - (gamma2*Xi)\n",
    "        dPdt = (kt*(I+Xi)) - (gamma3*P)\n",
    "        dRdt = (gamma2*(I+Xi)) + (gamma3*P) + gamma1*(E + Xe)\n",
    "\n",
    "        return [dSdt,dEdt,dAdt,dIdt,dXsdt,dXedt,dXadt,dXidt,dPdt,dRdt]\n",
    "    x=odeint(sirx,x0,t)\n",
    "    \n",
    "    return x"
   ]
  },
  {
   "cell_type": "markdown",
   "metadata": {},
   "source": [
    "# Initial values of the Variables"
   ]
  },
  {
   "cell_type": "code",
   "execution_count": 26,
   "metadata": {},
   "outputs": [],
   "source": [
    "days=25\n",
    "N=1.142e8  #Total population of Maharashtra\n",
    "E0=25\n",
    "A0=25\n",
    "I0=25\n",
    "S0=N-E0-A0-I0\n",
    "lkdwn_start=\"24-Mar\"\n",
    "lkdwn_end=days\n",
    "x0=[S0,E0,A0,I0,0,0,0,0,0,0]\n",
    "t=np.linspace(0,days,(days*frac + 1))"
   ]
  },
  {
   "cell_type": "markdown",
   "metadata": {},
   "source": [
    "# 3D Plotting"
   ]
  },
  {
   "cell_type": "code",
   "execution_count": 27,
   "metadata": {},
   "outputs": [],
   "source": [
    "all_fit=[]\n",
    "x=y=np.linspace(0.,1.,shape)\n",
    "for i in x:\n",
    "    for j in y:\n",
    "        x=f(i,j,x0,t)\n",
    "        P=x[:,8]\n",
    "        fit=chisquare(P[frac::frac],f_exp=real_P)[0]\n",
    "        all_fit.append([i,j,fit])"
   ]
  },
  {
   "cell_type": "code",
   "execution_count": 28,
   "metadata": {},
   "outputs": [],
   "source": [
    "import csv\n",
    "with open('plot_data.csv','w',newline='') as f:\n",
    "    fieldnames=['Beta','Beta1','Chisquare']\n",
    "    thewriter=csv.DictWriter(f,fieldnames=fieldnames)\n",
    "    thewriter.writerow({'Beta':'Beta','Beta1':'Beta1','Chisquare':'Chisquare'})\n",
    "    for i in range(len(all_fit)):\n",
    "        thewriter.writerow({'Beta':all_fit[i][0],'Beta1':all_fit[i][1],'Chisquare':all_fit[i][2]})"
   ]
  }
 ],
 "metadata": {
  "kernelspec": {
   "display_name": "Python 3",
   "language": "python",
   "name": "python3"
  },
  "language_info": {
   "codemirror_mode": {
    "name": "ipython",
    "version": 3
   },
   "file_extension": ".py",
   "mimetype": "text/x-python",
   "name": "python",
   "nbconvert_exporter": "python",
   "pygments_lexer": "ipython3",
   "version": "3.7.0"
  }
 },
 "nbformat": 4,
 "nbformat_minor": 4
}
